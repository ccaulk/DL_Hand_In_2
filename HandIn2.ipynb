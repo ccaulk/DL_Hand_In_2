{
 "cells": [
  {
   "cell_type": "code",
   "execution_count": 4,
   "metadata": {},
   "outputs": [],
   "source": [
    "#libraries we need\n",
    "import numpy as np \n",
    "import matplotlib.pyplot as plt\n",
    "import load_mnist\n",
    "import math\n",
    "import time\n",
    "import torch\n",
    "from sklearn.utils import shuffle"
   ]
  },
  {
   "cell_type": "code",
   "execution_count": 2,
   "metadata": {},
   "outputs": [
    {
     "name": "stdout",
     "output_type": "stream",
     "text": [
      "X Train shape (60000, 784)\n",
      "Y Train shape (60000, 10)\n",
      "X Test shape (10000, 784)\n",
      "Y Test shape (10000, 10)\n"
     ]
    }
   ],
   "source": [
    "#get the train and test data from the dataset\n",
    "xtrain,ytrain,xtest,ytest = load_mnist.load_mnist()\n",
    "#looking at the output\n",
    "print(\"X Train shape\", xtrain.shape)\n",
    "print(\"Y Train shape\", ytrain.shape)\n",
    "print(\"X Test shape\", xtest.shape)\n",
    "print(\"Y Test shape\", ytest.shape)"
   ]
  },
  {
   "cell_type": "code",
   "execution_count": null,
   "metadata": {},
   "outputs": [],
   "source": [
    "#Training test plot curve code that was provided in assignment 1 to get the plots\n",
    "#modified it to contain the time and number of epochs\n",
    "def training_curve_plot(title, train_costs, test_costs, train_accuracy, test_accuracy, batch_size, learning_rate, time, epochs):\n",
    "    lg=18\n",
    "    md=13\n",
    "    sm=9\n",
    "    fig, axs = plt.subplots(1, 2, figsize=(12, 4))\n",
    "    fig.suptitle(title, y=1.15, fontsize=lg)\n",
    "    sub = f'| Batch size:{batch_size} | Learning rate:{learning_rate} | Number of Epochs:{epochs} | Training Time:{time}sec |'\n",
    "    fig.text(0.5, 0.99, sub, ha='center', fontsize=md)\n",
    "    x = range(1, len(train_costs)+1)\n",
    "    axs[0].plot(x, train_costs, label=f'Final train cost: {train_costs[-1]:.4f}')\n",
    "    axs[0].plot(x, test_costs, label=f'Final test cost: {test_costs[-1]:.4f}')\n",
    "    axs[0].set_title('Costs', fontsize=md)\n",
    "    axs[0].set_xlabel('Epochs', fontsize=md)\n",
    "    axs[0].set_ylabel('Cost', fontsize=md)\n",
    "    axs[0].legend(fontsize=sm)\n",
    "    axs[0].tick_params(axis='both', labelsize=sm)\n",
    "    # Optionally use a logarithmic y-scale\n",
    "    #axs[0].set_yscale('log')\n",
    "    axs[1].plot(x, train_accuracy, label=f'Final train accuracy: {100*train_accuracy[-1]:.2f}%')\n",
    "    axs[1].plot(x, test_accuracy, label=f'Final test accuracy: {100*test_accuracy[-1]:.2f}%')\n",
    "    axs[1].set_title('Accuracy', fontsize=md)\n",
    "    axs[1].set_xlabel('Epochs', fontsize=md)\n",
    "    axs[1].set_ylabel('Accuracy (%)', fontsize=sm)\n",
    "    axs[1].legend(fontsize=sm)\n",
    "    axs[1].tick_params(axis='both', labelsize=sm)\n"
   ]
  },
  {
   "cell_type": "markdown",
   "metadata": {},
   "source": [
    "Want to make the exact same NN that I did in assignment 1 and the line below is the code I used for the deep NN  \n",
    "```deep_model = numpyNN(k = 2, activation_function=\"ReLU\", mini_batch=128, epochs= 150, iterations = 300000, alpha = 0.01)```  \n",
    "And the rest of the init function for my class looked like  \n",
    "```def __init__(self, k = 2, d = 50, d_i = 784, d_o = 10, activation_function = \"ReLU\", alpha = 0.05, mini_batch = 100, iterations = 100000, x_train = xtrain, y_train=ytrain, x_test = xtest, y_test = ytest, epochs = 500):```  \n",
    "So using Pytorch I want to create a deep fully connected NN with 2 hidden layers, 50 nodes per hidden layer, 784 is the input, 10 is the output, activation function is ReLU, a mini batch of 128, 150 epochs, and learning rate of 0.01"
   ]
  },
  {
   "cell_type": "code",
   "execution_count": 15,
   "metadata": {},
   "outputs": [],
   "source": [
    "xtrain = torch.Tensor(xtrain)\n",
    "ytrain = torch.Tensor(ytrain)\n",
    "xtest = torch.Tensor(xtest)\n",
    "ytest = torch.Tensor(ytest)"
   ]
  },
  {
   "cell_type": "code",
   "execution_count": 16,
   "metadata": {},
   "outputs": [],
   "source": [
    "#first we want to put our data in a pytorch dataset so we can mini batch and enumerate through it later more easily\n",
    "train_dataset = torch.utils.data.TensorDataset(xtrain, ytrain)\n",
    "test_dataset = torch.utils.data.TensorDataset(xtest, ytest)"
   ]
  },
  {
   "cell_type": "code",
   "execution_count": 17,
   "metadata": {},
   "outputs": [],
   "source": [
    "# Here we make a neural network that is identical to the one in assignment 1\n",
    "# so it will be a deep NN of 2 hidden layers, 50 nodes per layer\n",
    "class Assignment1NN(torch.nn.Module):\n",
    "    def __init__(self, input_size = 784, hidden_size = 50, output_size = 10):\n",
    "        super().__init__()\n",
    "        #First hiddent layer\n",
    "        self.hidden1 = torch.nn.Linear(input_size, hidden_size)\n",
    "        #ReLU activation function\n",
    "        self.relu1 = torch.nn.ReLU()\n",
    "        #second hidder layer\n",
    "        self.hidden2 = torch.nn.Linear(hidden_size, hidden_size)\n",
    "        #ReLU activation function\n",
    "        self.relu2 = torch.nn.ReLU()\n",
    "        #output layer\n",
    "        self.output = nn.Linear(hidden_size, output_size)\n",
    "    #forward pass through the network\n",
    "    def forward(self, x):\n",
    "        #pass through first hidden layer\n",
    "        x = self.hidden1(x)\n",
    "        #activation function\n",
    "        x = self.relu1(x)\n",
    "        #hidden layer 2\n",
    "        x = self.hidden2(x)\n",
    "        #activation function\n",
    "        x = self.relu2(x)\n",
    "        #pass through the output layer\n",
    "        x = self.output(x)\n",
    "        return x"
   ]
  }
 ],
 "metadata": {
  "kernelspec": {
   "display_name": "base",
   "language": "python",
   "name": "python3"
  },
  "language_info": {
   "codemirror_mode": {
    "name": "ipython",
    "version": 3
   },
   "file_extension": ".py",
   "mimetype": "text/x-python",
   "name": "python",
   "nbconvert_exporter": "python",
   "pygments_lexer": "ipython3",
   "version": "3.12.4"
  }
 },
 "nbformat": 4,
 "nbformat_minor": 2
}
